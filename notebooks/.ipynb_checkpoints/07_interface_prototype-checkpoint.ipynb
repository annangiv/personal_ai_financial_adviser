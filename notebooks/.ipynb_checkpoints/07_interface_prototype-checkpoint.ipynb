{
 "cells": [
  {
   "cell_type": "code",
   "execution_count": 1,
   "id": "29594859",
   "metadata": {},
   "outputs": [
    {
     "name": "stdout",
     "output_type": "stream",
     "text": [
      "Shape: (20000, 38)\n"
     ]
    },
    {
     "data": {
      "text/html": [
       "<div>\n",
       "<style scoped>\n",
       "    .dataframe tbody tr th:only-of-type {\n",
       "        vertical-align: middle;\n",
       "    }\n",
       "\n",
       "    .dataframe tbody tr th {\n",
       "        vertical-align: top;\n",
       "    }\n",
       "\n",
       "    .dataframe thead th {\n",
       "        text-align: right;\n",
       "    }\n",
       "</style>\n",
       "<table border=\"1\" class=\"dataframe\">\n",
       "  <thead>\n",
       "    <tr style=\"text-align: right;\">\n",
       "      <th></th>\n",
       "      <th>Income</th>\n",
       "      <th>Age</th>\n",
       "      <th>Dependents</th>\n",
       "      <th>Occupation</th>\n",
       "      <th>City_Tier</th>\n",
       "      <th>Rent</th>\n",
       "      <th>Loan_Repayment</th>\n",
       "      <th>Insurance</th>\n",
       "      <th>Groceries</th>\n",
       "      <th>Transport</th>\n",
       "      <th>...</th>\n",
       "      <th>savings_gap</th>\n",
       "      <th>can_meet_goal</th>\n",
       "      <th>discretionary_total</th>\n",
       "      <th>top1_category</th>\n",
       "      <th>top1_amount</th>\n",
       "      <th>top2_category</th>\n",
       "      <th>top2_amount</th>\n",
       "      <th>top3_category</th>\n",
       "      <th>top3_amount</th>\n",
       "      <th>advice</th>\n",
       "    </tr>\n",
       "  </thead>\n",
       "  <tbody>\n",
       "    <tr>\n",
       "      <th>0</th>\n",
       "      <td>44637.249636</td>\n",
       "      <td>49</td>\n",
       "      <td>0</td>\n",
       "      <td>Self_Employed</td>\n",
       "      <td>Tier_1</td>\n",
       "      <td>13391.174891</td>\n",
       "      <td>0.000000</td>\n",
       "      <td>2206.490129</td>\n",
       "      <td>6658.768341</td>\n",
       "      <td>2636.970696</td>\n",
       "      <td>...</td>\n",
       "      <td>-5065.09</td>\n",
       "      <td>True</td>\n",
       "      <td>13315.25</td>\n",
       "      <td>Groceries</td>\n",
       "      <td>1685.696222</td>\n",
       "      <td>Utilities</td>\n",
       "      <td>678.292859</td>\n",
       "      <td>Eating_Out</td>\n",
       "      <td>465.769172</td>\n",
       "      <td>[Budget-conscious majority]\\n• You can meet yo...</td>\n",
       "    </tr>\n",
       "    <tr>\n",
       "      <th>1</th>\n",
       "      <td>26858.596592</td>\n",
       "      <td>34</td>\n",
       "      <td>2</td>\n",
       "      <td>Retired</td>\n",
       "      <td>Tier_2</td>\n",
       "      <td>5371.719318</td>\n",
       "      <td>0.000000</td>\n",
       "      <td>869.522617</td>\n",
       "      <td>2818.444460</td>\n",
       "      <td>1543.018778</td>\n",
       "      <td>...</td>\n",
       "      <td>-7753.64</td>\n",
       "      <td>True</td>\n",
       "      <td>6625.32</td>\n",
       "      <td>Groceries</td>\n",
       "      <td>540.306561</td>\n",
       "      <td>Utilities</td>\n",
       "      <td>286.668408</td>\n",
       "      <td>Entertainment</td>\n",
       "      <td>234.131168</td>\n",
       "      <td>[Budget-conscious majority]\\n• You can meet yo...</td>\n",
       "    </tr>\n",
       "    <tr>\n",
       "      <th>2</th>\n",
       "      <td>50367.605084</td>\n",
       "      <td>35</td>\n",
       "      <td>1</td>\n",
       "      <td>Student</td>\n",
       "      <td>Tier_3</td>\n",
       "      <td>7555.140763</td>\n",
       "      <td>4612.103386</td>\n",
       "      <td>2201.800050</td>\n",
       "      <td>6313.222081</td>\n",
       "      <td>3221.396403</td>\n",
       "      <td>...</td>\n",
       "      <td>-6841.09</td>\n",
       "      <td>True</td>\n",
       "      <td>13400.11</td>\n",
       "      <td>Groceries</td>\n",
       "      <td>1466.073984</td>\n",
       "      <td>Utilities</td>\n",
       "      <td>488.383423</td>\n",
       "      <td>Transport</td>\n",
       "      <td>473.549752</td>\n",
       "      <td>[Comfortable middle]\\n• You can meet your savi...</td>\n",
       "    </tr>\n",
       "  </tbody>\n",
       "</table>\n",
       "<p>3 rows × 38 columns</p>\n",
       "</div>"
      ],
      "text/plain": [
       "         Income  Age  Dependents     Occupation City_Tier          Rent  \\\n",
       "0  44637.249636   49           0  Self_Employed    Tier_1  13391.174891   \n",
       "1  26858.596592   34           2        Retired    Tier_2   5371.719318   \n",
       "2  50367.605084   35           1        Student    Tier_3   7555.140763   \n",
       "\n",
       "   Loan_Repayment    Insurance    Groceries    Transport  ...  savings_gap  \\\n",
       "0        0.000000  2206.490129  6658.768341  2636.970696  ...     -5065.09   \n",
       "1        0.000000   869.522617  2818.444460  1543.018778  ...     -7753.64   \n",
       "2     4612.103386  2201.800050  6313.222081  3221.396403  ...     -6841.09   \n",
       "\n",
       "   can_meet_goal  discretionary_total  top1_category  top1_amount  \\\n",
       "0           True             13315.25      Groceries  1685.696222   \n",
       "1           True              6625.32      Groceries   540.306561   \n",
       "2           True             13400.11      Groceries  1466.073984   \n",
       "\n",
       "   top2_category  top2_amount  top3_category  top3_amount  \\\n",
       "0      Utilities   678.292859     Eating_Out   465.769172   \n",
       "1      Utilities   286.668408  Entertainment   234.131168   \n",
       "2      Utilities   488.383423      Transport   473.549752   \n",
       "\n",
       "                                              advice  \n",
       "0  [Budget-conscious majority]\\n• You can meet yo...  \n",
       "1  [Budget-conscious majority]\\n• You can meet yo...  \n",
       "2  [Comfortable middle]\\n• You can meet your savi...  \n",
       "\n",
       "[3 rows x 38 columns]"
      ]
     },
     "metadata": {},
     "output_type": "display_data"
    }
   ],
   "source": [
    "import pandas as pd\n",
    "import numpy as np\n",
    "import plotly.express as px\n",
    "from IPython.display import display, HTML\n",
    "import ipywidgets as W\n",
    "\n",
    "# Load advice data from 06\n",
    "df = pd.read_csv(\"../outputs/06_financial_advice.csv\")\n",
    "print(\"Shape:\", df.shape)\n",
    "display(df.head(3))\n",
    "\n",
    "# Clean types\n",
    "df[\"cluster_k3\"] = pd.to_numeric(df.get(\"cluster_k3\"), errors=\"coerce\")\n",
    "df[\"can_meet_goal\"] = df.get(\"can_meet_goal\").astype(str).str.lower().isin([\"true\",\"1\",\"yes\"])\n",
    "\n",
    "# Rupee formatter (Indian grouping)\n",
    "def inr(n):\n",
    "    try:\n",
    "        n = int(round(float(n)))\n",
    "    except Exception:\n",
    "        return str(n)\n",
    "    s, sign = str(abs(n)), \"-\" if n < 0 else \"\"\n",
    "    if len(s) <= 3: return f\"{sign}₹{s}\"\n",
    "    head, tail = s[:-3], s[-3:]\n",
    "    parts = []\n",
    "    while len(head) > 2:\n",
    "        parts.insert(0, head[-2:])\n",
    "        head = head[:-2]\n",
    "    if head: parts.insert(0, head)\n",
    "    return f\"{sign}₹{','.join(parts)},{tail}\"\n",
    "\n",
    "persona = {0: \"Budget-conscious majority\", 1: \"Affluent elite\", 2: \"Comfortable middle\"}\n"
   ]
  },
  {
   "cell_type": "code",
   "execution_count": 2,
   "id": "ea26f31f-dc66-40c8-880c-48946ee28bb9",
   "metadata": {},
   "outputs": [
    {
     "data": {
      "application/vnd.jupyter.widget-view+json": {
       "model_id": "96fa871f63944fd690e1c8d389332bb5",
       "version_major": 2,
       "version_minor": 0
      },
      "text/plain": [
       "HBox(children=(Dropdown(description='Cluster:', layout=Layout(width='220px'), options=('All', 0, 1, 2), value=…"
      ]
     },
     "execution_count": 2,
     "metadata": {},
     "output_type": "execute_result"
    }
   ],
   "source": [
    "cluster_dd   = W.Dropdown(options=[\"All\", 0, 1, 2], value=\"All\", description=\"Cluster:\", layout=W.Layout(width=\"220px\"))\n",
    "can_chk      = W.Checkbox(value=False, description=\"Can meet goal only\")\n",
    "search_txt   = W.Text(value=\"\", placeholder=\"Search Occupation / City\", description=\"Search:\", layout=W.Layout(width=\"320px\"))\n",
    "n_slider     = W.IntSlider(value=15, min=5, max=50, step=5, description=\"Rows:\", continuous_update=False, layout=W.Layout(width=\"400px\"))\n",
    "refresh_btn  = W.Button(description=\"Apply Filters\", button_style=\"primary\")\n",
    "export_btn   = W.Button(description=\"Download filtered CSV\")\n",
    "\n",
    "W.HBox([cluster_dd, can_chk, search_txt, n_slider, refresh_btn, export_btn])\n"
   ]
  },
  {
   "cell_type": "code",
   "execution_count": 3,
   "id": "675c6c2d-ebc2-49fc-8815-c1a263715541",
   "metadata": {},
   "outputs": [
    {
     "name": "stdout",
     "output_type": "stream",
     "text": [
      "Filtered rows: 20,000\n"
     ]
    },
    {
     "data": {
      "text/html": [
       "<div>\n",
       "<style scoped>\n",
       "    .dataframe tbody tr th:only-of-type {\n",
       "        vertical-align: middle;\n",
       "    }\n",
       "\n",
       "    .dataframe tbody tr th {\n",
       "        vertical-align: top;\n",
       "    }\n",
       "\n",
       "    .dataframe thead th {\n",
       "        text-align: right;\n",
       "    }\n",
       "</style>\n",
       "<table border=\"1\" class=\"dataframe\">\n",
       "  <thead>\n",
       "    <tr style=\"text-align: right;\">\n",
       "      <th></th>\n",
       "      <th>Income</th>\n",
       "      <th>Age</th>\n",
       "      <th>Dependents</th>\n",
       "      <th>Occupation</th>\n",
       "      <th>City_Tier</th>\n",
       "      <th>Rent</th>\n",
       "      <th>Loan_Repayment</th>\n",
       "      <th>Insurance</th>\n",
       "      <th>Groceries</th>\n",
       "      <th>Transport</th>\n",
       "      <th>...</th>\n",
       "      <th>savings_gap</th>\n",
       "      <th>can_meet_goal</th>\n",
       "      <th>discretionary_total</th>\n",
       "      <th>top1_category</th>\n",
       "      <th>top1_amount</th>\n",
       "      <th>top2_category</th>\n",
       "      <th>top2_amount</th>\n",
       "      <th>top3_category</th>\n",
       "      <th>top3_amount</th>\n",
       "      <th>advice</th>\n",
       "    </tr>\n",
       "  </thead>\n",
       "  <tbody>\n",
       "    <tr>\n",
       "      <th>0</th>\n",
       "      <td>44637.249636</td>\n",
       "      <td>49</td>\n",
       "      <td>0</td>\n",
       "      <td>Self_Employed</td>\n",
       "      <td>Tier_1</td>\n",
       "      <td>13391.174891</td>\n",
       "      <td>0.000000</td>\n",
       "      <td>2206.490129</td>\n",
       "      <td>6658.768341</td>\n",
       "      <td>2636.970696</td>\n",
       "      <td>...</td>\n",
       "      <td>-5065.09</td>\n",
       "      <td>True</td>\n",
       "      <td>13315.25</td>\n",
       "      <td>Groceries</td>\n",
       "      <td>1685.696222</td>\n",
       "      <td>Utilities</td>\n",
       "      <td>678.292859</td>\n",
       "      <td>Eating_Out</td>\n",
       "      <td>465.769172</td>\n",
       "      <td>[Budget-conscious majority]\\n• You can meet yo...</td>\n",
       "    </tr>\n",
       "    <tr>\n",
       "      <th>1</th>\n",
       "      <td>26858.596592</td>\n",
       "      <td>34</td>\n",
       "      <td>2</td>\n",
       "      <td>Retired</td>\n",
       "      <td>Tier_2</td>\n",
       "      <td>5371.719318</td>\n",
       "      <td>0.000000</td>\n",
       "      <td>869.522617</td>\n",
       "      <td>2818.444460</td>\n",
       "      <td>1543.018778</td>\n",
       "      <td>...</td>\n",
       "      <td>-7753.64</td>\n",
       "      <td>True</td>\n",
       "      <td>6625.32</td>\n",
       "      <td>Groceries</td>\n",
       "      <td>540.306561</td>\n",
       "      <td>Utilities</td>\n",
       "      <td>286.668408</td>\n",
       "      <td>Entertainment</td>\n",
       "      <td>234.131168</td>\n",
       "      <td>[Budget-conscious majority]\\n• You can meet yo...</td>\n",
       "    </tr>\n",
       "    <tr>\n",
       "      <th>2</th>\n",
       "      <td>50367.605084</td>\n",
       "      <td>35</td>\n",
       "      <td>1</td>\n",
       "      <td>Student</td>\n",
       "      <td>Tier_3</td>\n",
       "      <td>7555.140763</td>\n",
       "      <td>4612.103386</td>\n",
       "      <td>2201.800050</td>\n",
       "      <td>6313.222081</td>\n",
       "      <td>3221.396403</td>\n",
       "      <td>...</td>\n",
       "      <td>-6841.09</td>\n",
       "      <td>True</td>\n",
       "      <td>13400.11</td>\n",
       "      <td>Groceries</td>\n",
       "      <td>1466.073984</td>\n",
       "      <td>Utilities</td>\n",
       "      <td>488.383423</td>\n",
       "      <td>Transport</td>\n",
       "      <td>473.549752</td>\n",
       "      <td>[Comfortable middle]\\n• You can meet your savi...</td>\n",
       "    </tr>\n",
       "  </tbody>\n",
       "</table>\n",
       "<p>3 rows × 38 columns</p>\n",
       "</div>"
      ],
      "text/plain": [
       "         Income  Age  Dependents     Occupation City_Tier          Rent  \\\n",
       "0  44637.249636   49           0  Self_Employed    Tier_1  13391.174891   \n",
       "1  26858.596592   34           2        Retired    Tier_2   5371.719318   \n",
       "2  50367.605084   35           1        Student    Tier_3   7555.140763   \n",
       "\n",
       "   Loan_Repayment    Insurance    Groceries    Transport  ...  savings_gap  \\\n",
       "0        0.000000  2206.490129  6658.768341  2636.970696  ...     -5065.09   \n",
       "1        0.000000   869.522617  2818.444460  1543.018778  ...     -7753.64   \n",
       "2     4612.103386  2201.800050  6313.222081  3221.396403  ...     -6841.09   \n",
       "\n",
       "   can_meet_goal  discretionary_total  top1_category  top1_amount  \\\n",
       "0           True             13315.25      Groceries  1685.696222   \n",
       "1           True              6625.32      Groceries   540.306561   \n",
       "2           True             13400.11      Groceries  1466.073984   \n",
       "\n",
       "   top2_category  top2_amount  top3_category  top3_amount  \\\n",
       "0      Utilities   678.292859     Eating_Out   465.769172   \n",
       "1      Utilities   286.668408  Entertainment   234.131168   \n",
       "2      Utilities   488.383423      Transport   473.549752   \n",
       "\n",
       "                                              advice  \n",
       "0  [Budget-conscious majority]\\n• You can meet yo...  \n",
       "1  [Budget-conscious majority]\\n• You can meet yo...  \n",
       "2  [Comfortable middle]\\n• You can meet your savi...  \n",
       "\n",
       "[3 rows x 38 columns]"
      ]
     },
     "execution_count": 3,
     "metadata": {},
     "output_type": "execute_result"
    }
   ],
   "source": [
    "def apply_filters():\n",
    "    d = df.copy()\n",
    "    if cluster_dd.value != \"All\":\n",
    "        d = d[d[\"cluster_k3\"] == int(cluster_dd.value)]\n",
    "    if can_chk.value:\n",
    "        d = d[d[\"can_meet_goal\"] == True]\n",
    "    q = search_txt.value.strip().lower()\n",
    "    if q:\n",
    "        cols = [c for c in [\"Occupation\",\"City_Tier\"] if c in d.columns]\n",
    "        if cols:\n",
    "            mask = np.zeros(len(d), dtype=bool)\n",
    "            for c in cols:\n",
    "                mask |= d[c].astype(str).str.lower().str.contains(q, na=False)\n",
    "            d = d[mask]\n",
    "    return d\n",
    "\n",
    "filtered = apply_filters()\n",
    "print(f\"Filtered rows: {len(filtered):,}\")\n",
    "filtered.head(3)\n"
   ]
  },
  {
   "cell_type": "code",
   "execution_count": 4,
   "id": "768db738-3adb-4f26-8cae-f05da113017e",
   "metadata": {},
   "outputs": [
    {
     "data": {
      "text/html": [
       "\n",
       "        <div style='display:flex;gap:24px;font-family:system-ui'>\n",
       "          <div><div style='color:#666'>People</div><div style='font-size:22px;font-weight:600'>20,000</div></div>\n",
       "          <div><div style='color:#666'>Can meet goal</div><div style='font-size:22px;font-weight:600'>99%</div></div>\n",
       "          <div><div style='color:#666'>Avg savings gap</div><div style='font-size:22px;font-weight:600'>-₹5,664</div></div>\n",
       "          <div><div style='color:#666'>By cluster</div>\n",
       "            <div style='font-size:14px'>C0 14,571 • C1 718 • C2 4,711</div>\n",
       "          </div>\n",
       "        </div>\n",
       "        "
      ],
      "text/plain": [
       "<IPython.core.display.HTML object>"
      ]
     },
     "metadata": {},
     "output_type": "display_data"
    },
    {
     "data": {
      "application/vnd.plotly.v1+json": {
       "config": {
        "plotlyServerURL": "https://plot.ly"
       },
       "data": [
        {
         "hovertemplate": "Category=%{x}<br>Count=%{y}<extra></extra>",
         "legendgroup": "",
         "marker": {
          "color": "#636efa",
          "pattern": {
           "shape": ""
          }
         },
         "name": "",
         "orientation": "v",
         "showlegend": false,
         "textposition": "auto",
         "type": "bar",
         "x": [
          "Groceries",
          "Transport",
          "Utilities",
          "Eating_Out",
          "Entertainment",
          "Miscellaneous"
         ],
         "xaxis": "x",
         "y": {
          "bdata": "9znLCgcItgCgAAEA",
          "dtype": "i2"
         },
         "yaxis": "y"
        }
       ],
       "layout": {
        "barmode": "relative",
        "height": 360,
        "legend": {
         "tracegroupgap": 0
        },
        "margin": {
         "b": 10,
         "l": 10,
         "r": 10,
         "t": 50
        },
        "template": {
         "data": {
          "bar": [
           {
            "error_x": {
             "color": "#2a3f5f"
            },
            "error_y": {
             "color": "#2a3f5f"
            },
            "marker": {
             "line": {
              "color": "#E5ECF6",
              "width": 0.5
             },
             "pattern": {
              "fillmode": "overlay",
              "size": 10,
              "solidity": 0.2
             }
            },
            "type": "bar"
           }
          ],
          "barpolar": [
           {
            "marker": {
             "line": {
              "color": "#E5ECF6",
              "width": 0.5
             },
             "pattern": {
              "fillmode": "overlay",
              "size": 10,
              "solidity": 0.2
             }
            },
            "type": "barpolar"
           }
          ],
          "carpet": [
           {
            "aaxis": {
             "endlinecolor": "#2a3f5f",
             "gridcolor": "white",
             "linecolor": "white",
             "minorgridcolor": "white",
             "startlinecolor": "#2a3f5f"
            },
            "baxis": {
             "endlinecolor": "#2a3f5f",
             "gridcolor": "white",
             "linecolor": "white",
             "minorgridcolor": "white",
             "startlinecolor": "#2a3f5f"
            },
            "type": "carpet"
           }
          ],
          "choropleth": [
           {
            "colorbar": {
             "outlinewidth": 0,
             "ticks": ""
            },
            "type": "choropleth"
           }
          ],
          "contour": [
           {
            "colorbar": {
             "outlinewidth": 0,
             "ticks": ""
            },
            "colorscale": [
             [
              0,
              "#0d0887"
             ],
             [
              0.1111111111111111,
              "#46039f"
             ],
             [
              0.2222222222222222,
              "#7201a8"
             ],
             [
              0.3333333333333333,
              "#9c179e"
             ],
             [
              0.4444444444444444,
              "#bd3786"
             ],
             [
              0.5555555555555556,
              "#d8576b"
             ],
             [
              0.6666666666666666,
              "#ed7953"
             ],
             [
              0.7777777777777778,
              "#fb9f3a"
             ],
             [
              0.8888888888888888,
              "#fdca26"
             ],
             [
              1,
              "#f0f921"
             ]
            ],
            "type": "contour"
           }
          ],
          "contourcarpet": [
           {
            "colorbar": {
             "outlinewidth": 0,
             "ticks": ""
            },
            "type": "contourcarpet"
           }
          ],
          "heatmap": [
           {
            "colorbar": {
             "outlinewidth": 0,
             "ticks": ""
            },
            "colorscale": [
             [
              0,
              "#0d0887"
             ],
             [
              0.1111111111111111,
              "#46039f"
             ],
             [
              0.2222222222222222,
              "#7201a8"
             ],
             [
              0.3333333333333333,
              "#9c179e"
             ],
             [
              0.4444444444444444,
              "#bd3786"
             ],
             [
              0.5555555555555556,
              "#d8576b"
             ],
             [
              0.6666666666666666,
              "#ed7953"
             ],
             [
              0.7777777777777778,
              "#fb9f3a"
             ],
             [
              0.8888888888888888,
              "#fdca26"
             ],
             [
              1,
              "#f0f921"
             ]
            ],
            "type": "heatmap"
           }
          ],
          "histogram": [
           {
            "marker": {
             "pattern": {
              "fillmode": "overlay",
              "size": 10,
              "solidity": 0.2
             }
            },
            "type": "histogram"
           }
          ],
          "histogram2d": [
           {
            "colorbar": {
             "outlinewidth": 0,
             "ticks": ""
            },
            "colorscale": [
             [
              0,
              "#0d0887"
             ],
             [
              0.1111111111111111,
              "#46039f"
             ],
             [
              0.2222222222222222,
              "#7201a8"
             ],
             [
              0.3333333333333333,
              "#9c179e"
             ],
             [
              0.4444444444444444,
              "#bd3786"
             ],
             [
              0.5555555555555556,
              "#d8576b"
             ],
             [
              0.6666666666666666,
              "#ed7953"
             ],
             [
              0.7777777777777778,
              "#fb9f3a"
             ],
             [
              0.8888888888888888,
              "#fdca26"
             ],
             [
              1,
              "#f0f921"
             ]
            ],
            "type": "histogram2d"
           }
          ],
          "histogram2dcontour": [
           {
            "colorbar": {
             "outlinewidth": 0,
             "ticks": ""
            },
            "colorscale": [
             [
              0,
              "#0d0887"
             ],
             [
              0.1111111111111111,
              "#46039f"
             ],
             [
              0.2222222222222222,
              "#7201a8"
             ],
             [
              0.3333333333333333,
              "#9c179e"
             ],
             [
              0.4444444444444444,
              "#bd3786"
             ],
             [
              0.5555555555555556,
              "#d8576b"
             ],
             [
              0.6666666666666666,
              "#ed7953"
             ],
             [
              0.7777777777777778,
              "#fb9f3a"
             ],
             [
              0.8888888888888888,
              "#fdca26"
             ],
             [
              1,
              "#f0f921"
             ]
            ],
            "type": "histogram2dcontour"
           }
          ],
          "mesh3d": [
           {
            "colorbar": {
             "outlinewidth": 0,
             "ticks": ""
            },
            "type": "mesh3d"
           }
          ],
          "parcoords": [
           {
            "line": {
             "colorbar": {
              "outlinewidth": 0,
              "ticks": ""
             }
            },
            "type": "parcoords"
           }
          ],
          "pie": [
           {
            "automargin": true,
            "type": "pie"
           }
          ],
          "scatter": [
           {
            "fillpattern": {
             "fillmode": "overlay",
             "size": 10,
             "solidity": 0.2
            },
            "type": "scatter"
           }
          ],
          "scatter3d": [
           {
            "line": {
             "colorbar": {
              "outlinewidth": 0,
              "ticks": ""
             }
            },
            "marker": {
             "colorbar": {
              "outlinewidth": 0,
              "ticks": ""
             }
            },
            "type": "scatter3d"
           }
          ],
          "scattercarpet": [
           {
            "marker": {
             "colorbar": {
              "outlinewidth": 0,
              "ticks": ""
             }
            },
            "type": "scattercarpet"
           }
          ],
          "scattergeo": [
           {
            "marker": {
             "colorbar": {
              "outlinewidth": 0,
              "ticks": ""
             }
            },
            "type": "scattergeo"
           }
          ],
          "scattergl": [
           {
            "marker": {
             "colorbar": {
              "outlinewidth": 0,
              "ticks": ""
             }
            },
            "type": "scattergl"
           }
          ],
          "scattermap": [
           {
            "marker": {
             "colorbar": {
              "outlinewidth": 0,
              "ticks": ""
             }
            },
            "type": "scattermap"
           }
          ],
          "scattermapbox": [
           {
            "marker": {
             "colorbar": {
              "outlinewidth": 0,
              "ticks": ""
             }
            },
            "type": "scattermapbox"
           }
          ],
          "scatterpolar": [
           {
            "marker": {
             "colorbar": {
              "outlinewidth": 0,
              "ticks": ""
             }
            },
            "type": "scatterpolar"
           }
          ],
          "scatterpolargl": [
           {
            "marker": {
             "colorbar": {
              "outlinewidth": 0,
              "ticks": ""
             }
            },
            "type": "scatterpolargl"
           }
          ],
          "scatterternary": [
           {
            "marker": {
             "colorbar": {
              "outlinewidth": 0,
              "ticks": ""
             }
            },
            "type": "scatterternary"
           }
          ],
          "surface": [
           {
            "colorbar": {
             "outlinewidth": 0,
             "ticks": ""
            },
            "colorscale": [
             [
              0,
              "#0d0887"
             ],
             [
              0.1111111111111111,
              "#46039f"
             ],
             [
              0.2222222222222222,
              "#7201a8"
             ],
             [
              0.3333333333333333,
              "#9c179e"
             ],
             [
              0.4444444444444444,
              "#bd3786"
             ],
             [
              0.5555555555555556,
              "#d8576b"
             ],
             [
              0.6666666666666666,
              "#ed7953"
             ],
             [
              0.7777777777777778,
              "#fb9f3a"
             ],
             [
              0.8888888888888888,
              "#fdca26"
             ],
             [
              1,
              "#f0f921"
             ]
            ],
            "type": "surface"
           }
          ],
          "table": [
           {
            "cells": {
             "fill": {
              "color": "#EBF0F8"
             },
             "line": {
              "color": "white"
             }
            },
            "header": {
             "fill": {
              "color": "#C8D4E3"
             },
             "line": {
              "color": "white"
             }
            },
            "type": "table"
           }
          ]
         },
         "layout": {
          "annotationdefaults": {
           "arrowcolor": "#2a3f5f",
           "arrowhead": 0,
           "arrowwidth": 1
          },
          "autotypenumbers": "strict",
          "coloraxis": {
           "colorbar": {
            "outlinewidth": 0,
            "ticks": ""
           }
          },
          "colorscale": {
           "diverging": [
            [
             0,
             "#8e0152"
            ],
            [
             0.1,
             "#c51b7d"
            ],
            [
             0.2,
             "#de77ae"
            ],
            [
             0.3,
             "#f1b6da"
            ],
            [
             0.4,
             "#fde0ef"
            ],
            [
             0.5,
             "#f7f7f7"
            ],
            [
             0.6,
             "#e6f5d0"
            ],
            [
             0.7,
             "#b8e186"
            ],
            [
             0.8,
             "#7fbc41"
            ],
            [
             0.9,
             "#4d9221"
            ],
            [
             1,
             "#276419"
            ]
           ],
           "sequential": [
            [
             0,
             "#0d0887"
            ],
            [
             0.1111111111111111,
             "#46039f"
            ],
            [
             0.2222222222222222,
             "#7201a8"
            ],
            [
             0.3333333333333333,
             "#9c179e"
            ],
            [
             0.4444444444444444,
             "#bd3786"
            ],
            [
             0.5555555555555556,
             "#d8576b"
            ],
            [
             0.6666666666666666,
             "#ed7953"
            ],
            [
             0.7777777777777778,
             "#fb9f3a"
            ],
            [
             0.8888888888888888,
             "#fdca26"
            ],
            [
             1,
             "#f0f921"
            ]
           ],
           "sequentialminus": [
            [
             0,
             "#0d0887"
            ],
            [
             0.1111111111111111,
             "#46039f"
            ],
            [
             0.2222222222222222,
             "#7201a8"
            ],
            [
             0.3333333333333333,
             "#9c179e"
            ],
            [
             0.4444444444444444,
             "#bd3786"
            ],
            [
             0.5555555555555556,
             "#d8576b"
            ],
            [
             0.6666666666666666,
             "#ed7953"
            ],
            [
             0.7777777777777778,
             "#fb9f3a"
            ],
            [
             0.8888888888888888,
             "#fdca26"
            ],
            [
             1,
             "#f0f921"
            ]
           ]
          },
          "colorway": [
           "#636efa",
           "#EF553B",
           "#00cc96",
           "#ab63fa",
           "#FFA15A",
           "#19d3f3",
           "#FF6692",
           "#B6E880",
           "#FF97FF",
           "#FECB52"
          ],
          "font": {
           "color": "#2a3f5f"
          },
          "geo": {
           "bgcolor": "white",
           "lakecolor": "white",
           "landcolor": "#E5ECF6",
           "showlakes": true,
           "showland": true,
           "subunitcolor": "white"
          },
          "hoverlabel": {
           "align": "left"
          },
          "hovermode": "closest",
          "mapbox": {
           "style": "light"
          },
          "paper_bgcolor": "white",
          "plot_bgcolor": "#E5ECF6",
          "polar": {
           "angularaxis": {
            "gridcolor": "white",
            "linecolor": "white",
            "ticks": ""
           },
           "bgcolor": "#E5ECF6",
           "radialaxis": {
            "gridcolor": "white",
            "linecolor": "white",
            "ticks": ""
           }
          },
          "scene": {
           "xaxis": {
            "backgroundcolor": "#E5ECF6",
            "gridcolor": "white",
            "gridwidth": 2,
            "linecolor": "white",
            "showbackground": true,
            "ticks": "",
            "zerolinecolor": "white"
           },
           "yaxis": {
            "backgroundcolor": "#E5ECF6",
            "gridcolor": "white",
            "gridwidth": 2,
            "linecolor": "white",
            "showbackground": true,
            "ticks": "",
            "zerolinecolor": "white"
           },
           "zaxis": {
            "backgroundcolor": "#E5ECF6",
            "gridcolor": "white",
            "gridwidth": 2,
            "linecolor": "white",
            "showbackground": true,
            "ticks": "",
            "zerolinecolor": "white"
           }
          },
          "shapedefaults": {
           "line": {
            "color": "#2a3f5f"
           }
          },
          "ternary": {
           "aaxis": {
            "gridcolor": "white",
            "linecolor": "white",
            "ticks": ""
           },
           "baxis": {
            "gridcolor": "white",
            "linecolor": "white",
            "ticks": ""
           },
           "bgcolor": "#E5ECF6",
           "caxis": {
            "gridcolor": "white",
            "linecolor": "white",
            "ticks": ""
           }
          },
          "title": {
           "x": 0.05
          },
          "xaxis": {
           "automargin": true,
           "gridcolor": "white",
           "linecolor": "white",
           "ticks": "",
           "title": {
            "standoff": 15
           },
           "zerolinecolor": "white",
           "zerolinewidth": 2
          },
          "yaxis": {
           "automargin": true,
           "gridcolor": "white",
           "linecolor": "white",
           "ticks": "",
           "title": {
            "standoff": 15
           },
           "zerolinecolor": "white",
           "zerolinewidth": 2
          }
         }
        },
        "title": {
         "text": "Most Common #1 Savings Lever"
        },
        "xaxis": {
         "anchor": "y",
         "domain": [
          0,
          1
         ],
         "title": {
          "text": "Category"
         }
        },
        "yaxis": {
         "anchor": "x",
         "domain": [
          0,
          1
         ],
         "title": {
          "text": "Count"
         }
        }
       }
      },
      "image/png": "[encoded data removed]"
     },
     "metadata": {},
     "output_type": "display_data"
    },
    {
     "data": {
      "application/vnd.plotly.v1+json": {
       "config": {
        "plotlyServerURL": "https://plot.ly"
       },
       "data": [
        {
         "bingroup": "x",
         "hovertemplate": "savings_gap=%{x}<br>count=%{y}<extra></extra>",
         "legendgroup": "",
         "marker": {
          "color": "#636efa",
          "pattern": {
           "shape": ""
          }
         },
         "name": "",
         "nbinsx": 30,
         "orientation": "v",
         "showlegend": false,
         "type": "histogram",
         "x": {
          "bdata": "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",
          "dtype": "f8"
         },
         "xaxis": "x",
         "yaxis": "y"
        }
       ],
       "layout": {
        "barmode": "relative",
        "height": 360,
        "legend": {
         "tracegroupgap": 0
        },
        "margin": {
         "b": 10,
         "l": 10,
         "r": 10,
         "t": 50
        },
        "template": {
         "data": {
          "bar": [
           {
            "error_x": {
             "color": "#2a3f5f"
            },
            "error_y": {
             "color": "#2a3f5f"
            },
            "marker": {
             "line": {
              "color": "#E5ECF6",
              "width": 0.5
             },
             "pattern": {
              "fillmode": "overlay",
              "size": 10,
              "solidity": 0.2
             }
            },
            "type": "bar"
           }
          ],
          "barpolar": [
           {
            "marker": {
             "line": {
              "color": "#E5ECF6",
              "width": 0.5
             },
             "pattern": {
              "fillmode": "overlay",
              "size": 10,
              "solidity": 0.2
             }
            },
            "type": "barpolar"
           }
          ],
          "carpet": [
           {
            "aaxis": {
             "endlinecolor": "#2a3f5f",
             "gridcolor": "white",
             "linecolor": "white",
             "minorgridcolor": "white",
             "startlinecolor": "#2a3f5f"
            },
            "baxis": {
             "endlinecolor": "#2a3f5f",
             "gridcolor": "white",
             "linecolor": "white",
             "minorgridcolor": "white",
             "startlinecolor": "#2a3f5f"
            },
            "type": "carpet"
           }
          ],
          "choropleth": [
           {
            "colorbar": {
             "outlinewidth": 0,
             "ticks": ""
            },
            "type": "choropleth"
           }
          ],
          "contour": [
           {
            "colorbar": {
             "outlinewidth": 0,
             "ticks": ""
            },
            "colorscale": [
             [
              0,
              "#0d0887"
             ],
             [
              0.1111111111111111,
              "#46039f"
             ],
             [
              0.2222222222222222,
              "#7201a8"
             ],
             [
              0.3333333333333333,
              "#9c179e"
             ],
             [
              0.4444444444444444,
              "#bd3786"
             ],
             [
              0.5555555555555556,
              "#d8576b"
             ],
             [
              0.6666666666666666,
              "#ed7953"
             ],
             [
              0.7777777777777778,
              "#fb9f3a"
             ],
             [
              0.8888888888888888,
              "#fdca26"
             ],
             [
              1,
              "#f0f921"
             ]
            ],
            "type": "contour"
           }
          ],
          "contourcarpet": [
           {
            "colorbar": {
             "outlinewidth": 0,
             "ticks": ""
            },
            "type": "contourcarpet"
           }
          ],
          "heatmap": [
           {
            "colorbar": {
             "outlinewidth": 0,
             "ticks": ""
            },
            "colorscale": [
             [
              0,
              "#0d0887"
             ],
             [
              0.1111111111111111,
              "#46039f"
             ],
             [
              0.2222222222222222,
              "#7201a8"
             ],
             [
              0.3333333333333333,
              "#9c179e"
             ],
             [
              0.4444444444444444,
              "#bd3786"
             ],
             [
              0.5555555555555556,
              "#d8576b"
             ],
             [
              0.6666666666666666,
              "#ed7953"
             ],
             [
              0.7777777777777778,
              "#fb9f3a"
             ],
             [
              0.8888888888888888,
              "#fdca26"
             ],
             [
              1,
              "#f0f921"
             ]
            ],
            "type": "heatmap"
           }
          ],
          "histogram": [
           {
            "marker": {
             "pattern": {
              "fillmode": "overlay",
              "size": 10,
              "solidity": 0.2
             }
            },
            "type": "histogram"
           }
          ],
          "histogram2d": [
           {
            "colorbar": {
             "outlinewidth": 0,
             "ticks": ""
            },
            "colorscale": [
             [
              0,
              "#0d0887"
             ],
             [
              0.1111111111111111,
              "#46039f"
             ],
             [
              0.2222222222222222,
              "#7201a8"
             ],
             [
              0.3333333333333333,
              "#9c179e"
             ],
             [
              0.4444444444444444,
              "#bd3786"
             ],
             [
              0.5555555555555556,
              "#d8576b"
             ],
             [
              0.6666666666666666,
              "#ed7953"
             ],
             [
              0.7777777777777778,
              "#fb9f3a"
             ],
             [
              0.8888888888888888,
              "#fdca26"
             ],
             [
              1,
              "#f0f921"
             ]
            ],
            "type": "histogram2d"
           }
          ],
          "histogram2dcontour": [
           {
            "colorbar": {
             "outlinewidth": 0,
             "ticks": ""
            },
            "colorscale": [
             [
              0,
              "#0d0887"
             ],
             [
              0.1111111111111111,
              "#46039f"
             ],
             [
              0.2222222222222222,
              "#7201a8"
             ],
             [
              0.3333333333333333,
              "#9c179e"
             ],
             [
              0.4444444444444444,
              "#bd3786"
             ],
             [
              0.5555555555555556,
              "#d8576b"
             ],
             [
              0.6666666666666666,
              "#ed7953"
             ],
             [
              0.7777777777777778,
              "#fb9f3a"
             ],
             [
              0.8888888888888888,
              "#fdca26"
             ],
             [
              1,
              "#f0f921"
             ]
            ],
            "type": "histogram2dcontour"
           }
          ],
          "mesh3d": [
           {
            "colorbar": {
             "outlinewidth": 0,
             "ticks": ""
            },
            "type": "mesh3d"
           }
          ],
          "parcoords": [
           {
            "line": {
             "colorbar": {
              "outlinewidth": 0,
              "ticks": ""
             }
            },
            "type": "parcoords"
           }
          ],
          "pie": [
           {
            "automargin": true,
            "type": "pie"
           }
          ],
          "scatter": [
           {
            "fillpattern": {
             "fillmode": "overlay",
             "size": 10,
             "solidity": 0.2
            },
            "type": "scatter"
           }
          ],
          "scatter3d": [
           {
            "line": {
             "colorbar": {
              "outlinewidth": 0,
              "ticks": ""
             }
            },
            "marker": {
             "colorbar": {
              "outlinewidth": 0,
              "ticks": ""
             }
            },
            "type": "scatter3d"
           }
          ],
          "scattercarpet": [
           {
            "marker": {
             "colorbar": {
              "outlinewidth": 0,
              "ticks": ""
             }
            },
            "type": "scattercarpet"
           }
          ],
          "scattergeo": [
           {
            "marker": {
             "colorbar": {
              "outlinewidth": 0,
              "ticks": ""
             }
            },
            "type": "scattergeo"
           }
          ],
          "scattergl": [
           {
            "marker": {
             "colorbar": {
              "outlinewidth": 0,
              "ticks": ""
             }
            },
            "type": "scattergl"
           }
          ],
          "scattermap": [
           {
            "marker": {
             "colorbar": {
              "outlinewidth": 0,
              "ticks": ""
             }
            },
            "type": "scattermap"
           }
          ],
          "scattermapbox": [
           {
            "marker": {
             "colorbar": {
              "outlinewidth": 0,
              "ticks": ""
             }
            },
            "type": "scattermapbox"
           }
          ],
          "scatterpolar": [
           {
            "marker": {
             "colorbar": {
              "outlinewidth": 0,
              "ticks": ""
             }
            },
            "type": "scatterpolar"
           }
          ],
          "scatterpolargl": [
           {
            "marker": {
             "colorbar": {
              "outlinewidth": 0,
              "ticks": ""
             }
            },
            "type": "scatterpolargl"
           }
          ],
          "scatterternary": [
           {
            "marker": {
             "colorbar": {
              "outlinewidth": 0,
              "ticks": ""
             }
            },
            "type": "scatterternary"
           }
          ],
          "surface": [
           {
            "colorbar": {
             "outlinewidth": 0,
             "ticks": ""
            },
            "colorscale": [
             [
              0,
              "#0d0887"
             ],
             [
              0.1111111111111111,
              "#46039f"
             ],
             [
              0.2222222222222222,
              "#7201a8"
             ],
             [
              0.3333333333333333,
              "#9c179e"
             ],
             [
              0.4444444444444444,
              "#bd3786"
             ],
             [
              0.5555555555555556,
              "#d8576b"
             ],
             [
              0.6666666666666666,
              "#ed7953"
             ],
             [
              0.7777777777777778,
              "#fb9f3a"
             ],
             [
              0.8888888888888888,
              "#fdca26"
             ],
             [
              1,
              "#f0f921"
             ]
            ],
            "type": "surface"
           }
          ],
          "table": [
           {
            "cells": {
             "fill": {
              "color": "#EBF0F8"
             },
             "line": {
              "color": "white"
             }
            },
            "header": {
             "fill": {
              "color": "#C8D4E3"
             },
             "line": {
              "color": "white"
             }
            },
            "type": "table"
           }
          ]
         },
         "layout": {
          "annotationdefaults": {
           "arrowcolor": "#2a3f5f",
           "arrowhead": 0,
           "arrowwidth": 1
          },
          "autotypenumbers": "strict",
          "coloraxis": {
           "colorbar": {
            "outlinewidth": 0,
            "ticks": ""
           }
          },
          "colorscale": {
           "diverging": [
            [
             0,
             "#8e0152"
            ],
            [
             0.1,
             "#c51b7d"
            ],
            [
             0.2,
             "#de77ae"
            ],
            [
             0.3,
             "#f1b6da"
            ],
            [
             0.4,
             "#fde0ef"
            ],
            [
             0.5,
             "#f7f7f7"
            ],
            [
             0.6,
             "#e6f5d0"
            ],
            [
             0.7,
             "#b8e186"
            ],
            [
             0.8,
             "#7fbc41"
            ],
            [
             0.9,
             "#4d9221"
            ],
            [
             1,
             "#276419"
            ]
           ],
           "sequential": [
            [
             0,
             "#0d0887"
            ],
            [
             0.1111111111111111,
             "#46039f"
            ],
            [
             0.2222222222222222,
             "#7201a8"
            ],
            [
             0.3333333333333333,
             "#9c179e"
            ],
            [
             0.4444444444444444,
             "#bd3786"
            ],
            [
             0.5555555555555556,
             "#d8576b"
            ],
            [
             0.6666666666666666,
             "#ed7953"
            ],
            [
             0.7777777777777778,
             "#fb9f3a"
            ],
            [
             0.8888888888888888,
             "#fdca26"
            ],
            [
             1,
             "#f0f921"
            ]
           ],
           "sequentialminus": [
            [
             0,
             "#0d0887"
            ],
            [
             0.1111111111111111,
             "#46039f"
            ],
            [
             0.2222222222222222,
             "#7201a8"
            ],
            [
             0.3333333333333333,
             "#9c179e"
            ],
            [
             0.4444444444444444,
             "#bd3786"
            ],
            [
             0.5555555555555556,
             "#d8576b"
            ],
            [
             0.6666666666666666,
             "#ed7953"
            ],
            [
             0.7777777777777778,
             "#fb9f3a"
            ],
            [
             0.8888888888888888,
             "#fdca26"
            ],
            [
             1,
             "#f0f921"
            ]
           ]
          },
          "colorway": [
           "#636efa",
           "#EF553B",
           "#00cc96",
           "#ab63fa",
           "#FFA15A",
           "#19d3f3",
           "#FF6692",
           "#B6E880",
           "#FF97FF",
           "#FECB52"
          ],
          "font": {
           "color": "#2a3f5f"
          },
          "geo": {
           "bgcolor": "white",
           "lakecolor": "white",
           "landcolor": "#E5ECF6",
           "showlakes": true,
           "showland": true,
           "subunitcolor": "white"
          },
          "hoverlabel": {
           "align": "left"
          },
          "hovermode": "closest",
          "mapbox": {
           "style": "light"
          },
          "paper_bgcolor": "white",
          "plot_bgcolor": "#E5ECF6",
          "polar": {
           "angularaxis": {
            "gridcolor": "white",
            "linecolor": "white",
            "ticks": ""
           },
           "bgcolor": "#E5ECF6",
           "radialaxis": {
            "gridcolor": "white",
            "linecolor": "white",
            "ticks": ""
           }
          },
          "scene": {
           "xaxis": {
            "backgroundcolor": "#E5ECF6",
            "gridcolor": "white",
            "gridwidth": 2,
            "linecolor": "white",
            "showbackground": true,
            "ticks": "",
            "zerolinecolor": "white"
           },
           "yaxis": {
            "backgroundcolor": "#E5ECF6",
            "gridcolor": "white",
            "gridwidth": 2,
            "linecolor": "white",
            "showbackground": true,
            "ticks": "",
            "zerolinecolor": "white"
           },
           "zaxis": {
            "backgroundcolor": "#E5ECF6",
            "gridcolor": "white",
            "gridwidth": 2,
            "linecolor": "white",
            "showbackground": true,
            "ticks": "",
            "zerolinecolor": "white"
           }
          },
          "shapedefaults": {
           "line": {
            "color": "#2a3f5f"
           }
          },
          "ternary": {
           "aaxis": {
            "gridcolor": "white",
            "linecolor": "white",
            "ticks": ""
           },
           "baxis": {
            "gridcolor": "white",
            "linecolor": "white",
            "ticks": ""
           },
           "bgcolor": "#E5ECF6",
           "caxis": {
            "gridcolor": "white",
            "linecolor": "white",
            "ticks": ""
           }
          },
          "title": {
           "x": 0.05
          },
          "xaxis": {
           "automargin": true,
           "gridcolor": "white",
           "linecolor": "white",
           "ticks": "",
           "title": {
            "standoff": 15
           },
           "zerolinecolor": "white",
           "zerolinewidth": 2
          },
          "yaxis": {
           "automargin": true,
           "gridcolor": "white",
           "linecolor": "white",
           "ticks": "",
           "title": {
            "standoff": 15
           },
           "zerolinecolor": "white",
           "zerolinewidth": 2
          }
         }
        },
        "title": {
         "text": "Savings Gap Distribution (Desired − Disposable)"
        },
        "xaxis": {
         "anchor": "y",
         "domain": [
          0,
          1
         ],
         "title": {
          "text": "savings_gap"
         }
        },
        "yaxis": {
         "anchor": "x",
         "domain": [
          0,
          1
         ],
         "title": {
          "text": "count"
         }
        }
       }
      },
      "image/png": "[encoded data removed]"
     },
     "metadata": {},
     "output_type": "display_data"
    }
   ],
   "source": [
    "def kpis_and_plots(d):\n",
    "    rows = len(d)\n",
    "    can_ct = int(d[\"can_meet_goal\"].sum()) if \"can_meet_goal\" in d.columns else 0\n",
    "    avg_gap = d[\"savings_gap\"].mean() if \"savings_gap\" in d.columns else np.nan\n",
    "    byc = d[\"cluster_k3\"].value_counts().reindex([0,1,2], fill_value=0)\n",
    "\n",
    "    # KPIs\n",
    "    display(HTML(\n",
    "        f\"\"\"\n",
    "        <div style='display:flex;gap:24px;font-family:system-ui'>\n",
    "          <div><div style='color:#666'>People</div><div style='font-size:22px;font-weight:600'>{rows:,}</div></div>\n",
    "          <div><div style='color:#666'>Can meet goal</div><div style='font-size:22px;font-weight:600'>{round(100*can_ct/max(rows,1))}%</div></div>\n",
    "          <div><div style='color:#666'>Avg savings gap</div><div style='font-size:22px;font-weight:600'>{inr(avg_gap)}</div></div>\n",
    "          <div><div style='color:#666'>By cluster</div>\n",
    "            <div style='font-size:14px'>C0 {byc[0]:,} • C1 {byc[1]:,} • C2 {byc[2]:,}</div>\n",
    "          </div>\n",
    "        </div>\n",
    "        \"\"\"\n",
    "    ))\n",
    "\n",
    "    # Top1 category bar\n",
    "    if \"top1_category\" in d.columns and len(d):\n",
    "        top1 = d[\"top1_category\"].fillna(\"Unknown\").value_counts().reset_index()\n",
    "        top1.columns = [\"Category\",\"Count\"]\n",
    "        fig1 = px.bar(top1, x=\"Category\", y=\"Count\", title=\"Most Common #1 Savings Lever\")\n",
    "        fig1.update_layout(height=360, margin=dict(l=10,r=10,t=50,b=10))\n",
    "        fig1.show()\n",
    "\n",
    "    # Savings gap histogram\n",
    "    if \"savings_gap\" in d.columns and len(d):\n",
    "        fig2 = px.histogram(d, x=\"savings_gap\", nbins=30, title=\"Savings Gap Distribution (Desired − Disposable)\")\n",
    "        fig2.update_layout(height=360, margin=dict(l=10,r=10,t=50,b=10))\n",
    "        fig2.show()\n",
    "\n",
    "kpis_and_plots(filtered)\n"
   ]
  },
  {
   "cell_type": "code",
   "execution_count": 5,
   "id": "2a349b9f-0b04-4cd1-af52-c72fc0b10918",
   "metadata": {},
   "outputs": [
    {
     "data": {
      "text/html": [
       "<div>\n",
       "<style scoped>\n",
       "    .dataframe tbody tr th:only-of-type {\n",
       "        vertical-align: middle;\n",
       "    }\n",
       "\n",
       "    .dataframe tbody tr th {\n",
       "        vertical-align: top;\n",
       "    }\n",
       "\n",
       "    .dataframe thead th {\n",
       "        text-align: right;\n",
       "    }\n",
       "</style>\n",
       "<table border=\"1\" class=\"dataframe\">\n",
       "  <thead>\n",
       "    <tr style=\"text-align: right;\">\n",
       "      <th></th>\n",
       "      <th>Income</th>\n",
       "      <th>Disposable_Income</th>\n",
       "      <th>Desired_Savings</th>\n",
       "      <th>cluster_k3</th>\n",
       "      <th>can_meet_goal</th>\n",
       "      <th>savings_gap</th>\n",
       "      <th>top1_category</th>\n",
       "      <th>top1_amount</th>\n",
       "      <th>advice</th>\n",
       "      <th>persona</th>\n",
       "    </tr>\n",
       "  </thead>\n",
       "  <tbody>\n",
       "    <tr>\n",
       "      <th>0</th>\n",
       "      <td>₹44,637</td>\n",
       "      <td>₹11,266</td>\n",
       "      <td>₹6,201</td>\n",
       "      <td>0</td>\n",
       "      <td>True</td>\n",
       "      <td>-₹5,065</td>\n",
       "      <td>Groceries</td>\n",
       "      <td>₹1,686</td>\n",
       "      <td>[Budget-conscious majority]\\n• You can meet yo...</td>\n",
       "      <td>Budget-conscious majority</td>\n",
       "    </tr>\n",
       "    <tr>\n",
       "      <th>1</th>\n",
       "      <td>₹26,859</td>\n",
       "      <td>₹9,677</td>\n",
       "      <td>₹1,923</td>\n",
       "      <td>0</td>\n",
       "      <td>True</td>\n",
       "      <td>-₹7,754</td>\n",
       "      <td>Groceries</td>\n",
       "      <td>₹540</td>\n",
       "      <td>[Budget-conscious majority]\\n• You can meet yo...</td>\n",
       "      <td>Budget-conscious majority</td>\n",
       "    </tr>\n",
       "    <tr>\n",
       "      <th>2</th>\n",
       "      <td>₹50,368</td>\n",
       "      <td>₹13,891</td>\n",
       "      <td>₹7,050</td>\n",
       "      <td>2</td>\n",
       "      <td>True</td>\n",
       "      <td>-₹6,841</td>\n",
       "      <td>Groceries</td>\n",
       "      <td>₹1,466</td>\n",
       "      <td>[Comfortable middle]\\n• You can meet your savi...</td>\n",
       "      <td>Comfortable middle</td>\n",
       "    </tr>\n",
       "    <tr>\n",
       "      <th>3</th>\n",
       "      <td>₹1,01,456</td>\n",
       "      <td>₹31,618</td>\n",
       "      <td>₹16,695</td>\n",
       "      <td>2</td>\n",
       "      <td>True</td>\n",
       "      <td>-₹14,923</td>\n",
       "      <td>Groceries</td>\n",
       "      <td>₹1,876</td>\n",
       "      <td>[Comfortable middle]\\n• You can meet your savi...</td>\n",
       "      <td>Comfortable middle</td>\n",
       "    </tr>\n",
       "    <tr>\n",
       "      <th>4</th>\n",
       "      <td>₹24,875</td>\n",
       "      <td>₹6,266</td>\n",
       "      <td>₹1,874</td>\n",
       "      <td>0</td>\n",
       "      <td>True</td>\n",
       "      <td>-₹4,392</td>\n",
       "      <td>Groceries</td>\n",
       "      <td>₹789</td>\n",
       "      <td>[Budget-conscious majority]\\n• You can meet yo...</td>\n",
       "      <td>Budget-conscious majority</td>\n",
       "    </tr>\n",
       "    <tr>\n",
       "      <th>5</th>\n",
       "      <td>₹24,876</td>\n",
       "      <td>₹7,599</td>\n",
       "      <td>₹1,479</td>\n",
       "      <td>0</td>\n",
       "      <td>True</td>\n",
       "      <td>-₹6,121</td>\n",
       "      <td>Groceries</td>\n",
       "      <td>₹958</td>\n",
       "      <td>[Budget-conscious majority]\\n• You can meet yo...</td>\n",
       "      <td>Budget-conscious majority</td>\n",
       "    </tr>\n",
       "    <tr>\n",
       "      <th>6</th>\n",
       "      <td>₹1,06,120</td>\n",
       "      <td>₹41,595</td>\n",
       "      <td>₹18,400</td>\n",
       "      <td>2</td>\n",
       "      <td>True</td>\n",
       "      <td>-₹23,196</td>\n",
       "      <td>Groceries</td>\n",
       "      <td>₹2,799</td>\n",
       "      <td>[Comfortable middle]\\n• You can meet your savi...</td>\n",
       "      <td>Comfortable middle</td>\n",
       "    </tr>\n",
       "    <tr>\n",
       "      <th>7</th>\n",
       "      <td>₹55,431</td>\n",
       "      <td>₹8,466</td>\n",
       "      <td>₹6,636</td>\n",
       "      <td>2</td>\n",
       "      <td>True</td>\n",
       "      <td>-₹1,830</td>\n",
       "      <td>Groceries</td>\n",
       "      <td>₹1,059</td>\n",
       "      <td>[Comfortable middle]\\n• You can meet your savi...</td>\n",
       "      <td>Comfortable middle</td>\n",
       "    </tr>\n",
       "    <tr>\n",
       "      <th>8</th>\n",
       "      <td>₹20,607</td>\n",
       "      <td>₹363</td>\n",
       "      <td>₹363</td>\n",
       "      <td>0</td>\n",
       "      <td>True</td>\n",
       "      <td>₹0</td>\n",
       "      <td>Groceries</td>\n",
       "      <td>₹823</td>\n",
       "      <td>[Budget-conscious majority]\\n• You can meet yo...</td>\n",
       "      <td>Budget-conscious majority</td>\n",
       "    </tr>\n",
       "    <tr>\n",
       "      <th>9</th>\n",
       "      <td>₹46,305</td>\n",
       "      <td>₹15,690</td>\n",
       "      <td>₹5,615</td>\n",
       "      <td>0</td>\n",
       "      <td>True</td>\n",
       "      <td>-₹10,075</td>\n",
       "      <td>Groceries</td>\n",
       "      <td>₹962</td>\n",
       "      <td>[Budget-conscious majority]\\n• You can meet yo...</td>\n",
       "      <td>Budget-conscious majority</td>\n",
       "    </tr>\n",
       "    <tr>\n",
       "      <th>10</th>\n",
       "      <td>₹20,707</td>\n",
       "      <td>₹8,059</td>\n",
       "      <td>₹1,730</td>\n",
       "      <td>0</td>\n",
       "      <td>True</td>\n",
       "      <td>-₹6,329</td>\n",
       "      <td>Groceries</td>\n",
       "      <td>₹504</td>\n",
       "      <td>[Budget-conscious majority]\\n• You can meet yo...</td>\n",
       "      <td>Budget-conscious majority</td>\n",
       "    </tr>\n",
       "    <tr>\n",
       "      <th>11</th>\n",
       "      <td>₹20,669</td>\n",
       "      <td>₹6,120</td>\n",
       "      <td>₹1,704</td>\n",
       "      <td>0</td>\n",
       "      <td>True</td>\n",
       "      <td>-₹4,415</td>\n",
       "      <td>Groceries</td>\n",
       "      <td>₹554</td>\n",
       "      <td>[Budget-conscious majority]\\n• You can meet yo...</td>\n",
       "      <td>Budget-conscious majority</td>\n",
       "    </tr>\n",
       "    <tr>\n",
       "      <th>12</th>\n",
       "      <td>₹36,407</td>\n",
       "      <td>₹4,590</td>\n",
       "      <td>₹2,743</td>\n",
       "      <td>0</td>\n",
       "      <td>True</td>\n",
       "      <td>-₹1,847</td>\n",
       "      <td>Utilities</td>\n",
       "      <td>₹474</td>\n",
       "      <td>[Budget-conscious majority]\\n• You can meet yo...</td>\n",
       "      <td>Budget-conscious majority</td>\n",
       "    </tr>\n",
       "    <tr>\n",
       "      <th>13</th>\n",
       "      <td>₹6,492</td>\n",
       "      <td>₹1,881</td>\n",
       "      <td>₹464</td>\n",
       "      <td>0</td>\n",
       "      <td>True</td>\n",
       "      <td>-₹1,417</td>\n",
       "      <td>Groceries</td>\n",
       "      <td>₹180</td>\n",
       "      <td>[Budget-conscious majority]\\n• You can meet yo...</td>\n",
       "      <td>Budget-conscious majority</td>\n",
       "    </tr>\n",
       "    <tr>\n",
       "      <th>14</th>\n",
       "      <td>₹7,548</td>\n",
       "      <td>₹2,161</td>\n",
       "      <td>₹412</td>\n",
       "      <td>0</td>\n",
       "      <td>True</td>\n",
       "      <td>-₹1,749</td>\n",
       "      <td>Groceries</td>\n",
       "      <td>₹208</td>\n",
       "      <td>[Budget-conscious majority]\\n• You can meet yo...</td>\n",
       "      <td>Budget-conscious majority</td>\n",
       "    </tr>\n",
       "  </tbody>\n",
       "</table>\n",
       "</div>"
      ],
      "text/plain": [
       "       Income Disposable_Income Desired_Savings  cluster_k3  can_meet_goal  \\\n",
       "0     ₹44,637           ₹11,266          ₹6,201           0           True   \n",
       "1     ₹26,859            ₹9,677          ₹1,923           0           True   \n",
       "2     ₹50,368           ₹13,891          ₹7,050           2           True   \n",
       "3   ₹1,01,456           ₹31,618         ₹16,695           2           True   \n",
       "4     ₹24,875            ₹6,266          ₹1,874           0           True   \n",
       "5     ₹24,876            ₹7,599          ₹1,479           0           True   \n",
       "6   ₹1,06,120           ₹41,595         ₹18,400           2           True   \n",
       "7     ₹55,431            ₹8,466          ₹6,636           2           True   \n",
       "8     ₹20,607              ₹363            ₹363           0           True   \n",
       "9     ₹46,305           ₹15,690          ₹5,615           0           True   \n",
       "10    ₹20,707            ₹8,059          ₹1,730           0           True   \n",
       "11    ₹20,669            ₹6,120          ₹1,704           0           True   \n",
       "12    ₹36,407            ₹4,590          ₹2,743           0           True   \n",
       "13     ₹6,492            ₹1,881            ₹464           0           True   \n",
       "14     ₹7,548            ₹2,161            ₹412           0           True   \n",
       "\n",
       "   savings_gap top1_category top1_amount  \\\n",
       "0      -₹5,065     Groceries      ₹1,686   \n",
       "1      -₹7,754     Groceries        ₹540   \n",
       "2      -₹6,841     Groceries      ₹1,466   \n",
       "3     -₹14,923     Groceries      ₹1,876   \n",
       "4      -₹4,392     Groceries        ₹789   \n",
       "5      -₹6,121     Groceries        ₹958   \n",
       "6     -₹23,196     Groceries      ₹2,799   \n",
       "7      -₹1,830     Groceries      ₹1,059   \n",
       "8           ₹0     Groceries        ₹823   \n",
       "9     -₹10,075     Groceries        ₹962   \n",
       "10     -₹6,329     Groceries        ₹504   \n",
       "11     -₹4,415     Groceries        ₹554   \n",
       "12     -₹1,847     Utilities        ₹474   \n",
       "13     -₹1,417     Groceries        ₹180   \n",
       "14     -₹1,749     Groceries        ₹208   \n",
       "\n",
       "                                               advice  \\\n",
       "0   [Budget-conscious majority]\\n• You can meet yo...   \n",
       "1   [Budget-conscious majority]\\n• You can meet yo...   \n",
       "2   [Comfortable middle]\\n• You can meet your savi...   \n",
       "3   [Comfortable middle]\\n• You can meet your savi...   \n",
       "4   [Budget-conscious majority]\\n• You can meet yo...   \n",
       "5   [Budget-conscious majority]\\n• You can meet yo...   \n",
       "6   [Comfortable middle]\\n• You can meet your savi...   \n",
       "7   [Comfortable middle]\\n• You can meet your savi...   \n",
       "8   [Budget-conscious majority]\\n• You can meet yo...   \n",
       "9   [Budget-conscious majority]\\n• You can meet yo...   \n",
       "10  [Budget-conscious majority]\\n• You can meet yo...   \n",
       "11  [Budget-conscious majority]\\n• You can meet yo...   \n",
       "12  [Budget-conscious majority]\\n• You can meet yo...   \n",
       "13  [Budget-conscious majority]\\n• You can meet yo...   \n",
       "14  [Budget-conscious majority]\\n• You can meet yo...   \n",
       "\n",
       "                      persona  \n",
       "0   Budget-conscious majority  \n",
       "1   Budget-conscious majority  \n",
       "2          Comfortable middle  \n",
       "3          Comfortable middle  \n",
       "4   Budget-conscious majority  \n",
       "5   Budget-conscious majority  \n",
       "6          Comfortable middle  \n",
       "7          Comfortable middle  \n",
       "8   Budget-conscious majority  \n",
       "9   Budget-conscious majority  \n",
       "10  Budget-conscious majority  \n",
       "11  Budget-conscious majority  \n",
       "12  Budget-conscious majority  \n",
       "13  Budget-conscious majority  \n",
       "14  Budget-conscious majority  "
      ]
     },
     "metadata": {},
     "output_type": "display_data"
    }
   ],
   "source": [
    "show_cols = [\n",
    "    \"Income\",\"Disposable_Income\",\"Desired_Savings\",\n",
    "    \"cluster_k3\",\"can_meet_goal\",\"savings_gap\",\n",
    "    \"top1_category\",\"top1_amount\",\"advice\"\n",
    "]\n",
    "show_cols = [c for c in show_cols if c in filtered.columns]\n",
    "view = filtered[show_cols].head(n_slider.value).copy()\n",
    "\n",
    "for col in [\"Income\",\"Disposable_Income\",\"Desired_Savings\",\"savings_gap\",\"top1_amount\"]:\n",
    "    if col in view.columns:\n",
    "        view[col] = view[col].apply(inr)\n",
    "\n",
    "# Map cluster to persona text (extra column)\n",
    "if \"cluster_k3\" in view.columns:\n",
    "    view[\"persona\"] = view[\"cluster_k3\"].map(persona)\n",
    "\n",
    "display(view)\n"
   ]
  },
  {
   "cell_type": "code",
   "execution_count": 7,
   "id": "b68ae45a-fc80-4e7b-b984-78036cbece28",
   "metadata": {},
   "outputs": [
    {
     "data": {
      "application/vnd.jupyter.widget-view+json": {
       "model_id": "7ab1f391b90a4754871a9d29de0f1de3",
       "version_major": 2,
       "version_minor": 0
      },
      "text/plain": [
       "Output()"
      ]
     },
     "metadata": {},
     "output_type": "display_data"
    }
   ],
   "source": [
    "out = W.Output()\n",
    "\n",
    "def on_apply_clicked(_):\n",
    "    with out:\n",
    "        out.clear_output()\n",
    "        d = apply_filters()\n",
    "        print(f\"Filtered rows: {len(d):,}\")\n",
    "        kpis_and_plots(d)\n",
    "        view = d[[c for c in [\n",
    "            \"Income\",\"Disposable_Income\",\"Desired_Savings\",\n",
    "            \"cluster_k3\",\"can_meet_goal\",\"savings_gap\",\n",
    "            \"top1_category\",\"top1_amount\",\"advice\"\n",
    "        ] if c in d.columns]].head(n_slider.value).copy()\n",
    "        for col in [\"Income\",\"Disposable_Income\",\"Desired_Savings\",\"savings_gap\",\"top1_amount\"]:\n",
    "            if col in view.columns:\n",
    "                view[col] = view[col].apply(inr)\n",
    "        if \"cluster_k3\" in view.columns:\n",
    "            view[\"persona\"] = view[\"cluster_k3\"].map(persona)\n",
    "        display(view)\n",
    "\n",
    "def on_export_clicked(_):\n",
    "    d = apply_filters()\n",
    "    path = \"../outputs/07_filtered_advice.csv\"\n",
    "    d.to_csv(path, index=False)\n",
    "    with out:\n",
    "        print(f\"✅ Saved filtered CSV → {path}  ({len(d):,} rows)\")\n",
    "\n",
    "refresh_btn.on_click(on_apply_clicked)\n",
    "export_btn.on_click(on_export_clicked)\n",
    "\n",
    "display(out)\n"
   ]
  },
  {
   "cell_type": "code",
   "execution_count": null,
   "id": "d56d8305-e22c-4515-95a6-cd57b02973f4",
   "metadata": {},
   "outputs": [],
   "source": []
  }
 ],
 "metadata": {
  "kernelspec": {
   "display_name": "Python 3 (ipykernel)",
   "language": "python",
   "name": "python3"
  },
  "language_info": {
   "codemirror_mode": {
    "name": "ipython",
    "version": 3
   },
   "file_extension": ".py",
   "mimetype": "text/x-python",
   "name": "python",
   "nbconvert_exporter": "python",
   "pygments_lexer": "ipython3",
   "version": "3.11.13"
  }
 },
 "nbformat": 4,
 "nbformat_minor": 5
}
