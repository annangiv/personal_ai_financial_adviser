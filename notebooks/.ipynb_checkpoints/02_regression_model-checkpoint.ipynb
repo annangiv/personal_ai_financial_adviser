{
 "cells": [
  {
   "cell_type": "code",
   "execution_count": 1,
   "id": "b5bd3665",
   "metadata": {},
   "outputs": [
    {
     "name": "stdout",
     "output_type": "stream",
     "text": [
      "Features shape: (20000, 23)\n",
      "Target shape: (20000,)\n"
     ]
    }
   ],
   "source": [
    "import pandas as pd\n",
    "\n",
    "# Load dataset\n",
    "df = pd.read_csv(\"../data/personal_finance_expenses.csv\")"
   ]
  },
  {
   "cell_type": "code",
   "execution_count": 2,
   "id": "ca9a924c-382e-4fa2-b61a-67ea5cb068b2",
   "metadata": {},
   "outputs": [
    {
     "name": "stdout",
     "output_type": "stream",
     "text": [
      "          Income  total_expenses  estimated_savings  Desired_Savings  \\\n",
      "0   44637.249636    33371.621929       11265.627707      6200.537192   \n",
      "1   26858.596592    17181.777859        9676.818733      1923.176434   \n",
      "2   50367.605084    36476.154459       13891.450624      7050.360422   \n",
      "3  101455.600247    69837.646632       31617.953615     16694.965136   \n",
      "4   24875.283548    18609.583016        6265.700532      1874.099434   \n",
      "\n",
      "   Disposable_Income  \n",
      "0       11265.627707  \n",
      "1        9676.818733  \n",
      "2       13891.450624  \n",
      "3       31617.953615  \n",
      "4        6265.700532  \n",
      "Features shape: (20000, 25)\n",
      "Target shape: (20000,)\n"
     ]
    }
   ],
   "source": [
    "# --- Feature engineering ---\n",
    "expense_cols = [\n",
    "    'Rent','Loan_Repayment','Insurance','Groceries','Transport','Eating_Out',\n",
    "    'Entertainment','Utilities','Healthcare','Education','Miscellaneous'\n",
    "]\n",
    "\n",
    "df['total_expenses'] = df[expense_cols].sum(axis=1)\n",
    "df['estimated_savings'] = df['Income'] - df['total_expenses']\n",
    "\n",
    "print(df[['Income','total_expenses','estimated_savings',\n",
    "          'Desired_Savings','Disposable_Income']].head(5))\n",
    "\n",
    "# Target\n",
    "y = df['Desired_Savings']\n",
    "\n",
    "# Features (drop derived columns and target)\n",
    "X = df.drop(['Desired_Savings'] + \n",
    "            [col for col in df.columns if 'Potential_Savings' in col], axis=1)\n",
    "\n",
    "# One-hot encode categorical columns\n",
    "categorical_cols = ['Occupation', 'City_Tier']\n",
    "X = pd.get_dummies(X, columns=categorical_cols)\n",
    "\n",
    "print(\"Features shape:\", X.shape)\n",
    "print(\"Target shape:\", y.shape)\n"
   ]
  },
  {
   "cell_type": "code",
   "execution_count": 3,
   "id": "712bca93",
   "metadata": {},
   "outputs": [
    {
     "name": "stdout",
     "output_type": "stream",
     "text": [
      "Training set: (16000, 23) (16000,)\n",
      "Test set: (4000, 23) (4000,)\n"
     ]
    }
   ],
   "source": [
    "from sklearn.model_selection import train_test_split\n",
    "\n",
    "X_train, X_test, y_train, y_test = train_test_split(\n",
    "    X, y, test_size=0.2, random_state=42\n",
    ")\n",
    "\n",
    "print(\"Training set:\", X_train.shape, y_train.shape)\n",
    "print(\"Test set:\", X_test.shape, y_test.shape)\n"
   ]
  },
  {
   "cell_type": "code",
   "execution_count": null,
   "id": "804605b0-bab9-4a9b-bdda-7dd4e883e1b9",
   "metadata": {},
   "outputs": [],
   "source": [
    "from sklearn.linear_model import LinearRegression\n",
    "from sklearn.metrics import mean_squared_error, r2_score\n",
    "\n",
    "lr_model = LinearRegression()\n",
    "lr_model.fit(X_train, y_train)\n",
    "\n",
    "y_pred = lr_model.predict(X_test)\n",
    "\n",
    "mse = mean_squared_error(y_test, y_pred)\n",
    "rmse = mse ** 0.5\n",
    "r2 = r2_score(y_test, y_pred)\n",
    "\n",
    "print(\"Mean Squared Error (MSE):\", mse)\n",
    "print(\"RMSE:\", rmse)\n",
    "print(\"R^2 Score:\", r2)\n"
   ]
  }
 ],
 "metadata": {
  "kernelspec": {
   "display_name": "Python 3 (ipykernel)",
   "language": "python",
   "name": "python3"
  },
  "language_info": {
   "codemirror_mode": {
    "name": "ipython",
    "version": 3
   },
   "file_extension": ".py",
   "mimetype": "text/x-python",
   "name": "python",
   "nbconvert_exporter": "python",
   "pygments_lexer": "ipython3",
   "version": "3.13.5"
  }
 },
 "nbformat": 4,
 "nbformat_minor": 5
}
